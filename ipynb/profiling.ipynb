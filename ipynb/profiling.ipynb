{
 "cells": [
  {
   "cell_type": "code",
   "execution_count": 1,
   "metadata": {},
   "outputs": [],
   "source": [
    "import numpy as np"
   ]
  },
  {
   "cell_type": "code",
   "execution_count": 2,
   "metadata": {},
   "outputs": [],
   "source": [
    "def sum_abundance_1(data, axis, cutoff=10, strict=False):\n",
    "    '''Check if the sum abundance larger than cutoff.\n",
    "\n",
    "    It can be used filter features with at least \"cutoff\" abundance\n",
    "    total over all samples\n",
    "    NOTE: this is a \"fast\" function working on the whole matrix\n",
    "\n",
    "    Parameters\n",
    "    ----------\n",
    "    data : numpy 2d array or scipy.Sparse matrix\n",
    "    axis : int\n",
    "        0 to sum each feature, 1 to sum each sample\n",
    "    cutoff : float\n",
    "        keep features with sum>=cutoff\n",
    "    strict : bool, optional\n",
    "        False (default) to use sum >=cutoff\n",
    "        True to use sum>cutoff (for removing 0 reads)\n",
    "\n",
    "    Returns\n",
    "    -------\n",
    "    numpy.array\n",
    "        Boolean array with one entry per feature (axis=0) or sample (axis=1), True if sum>=cutoff.\n",
    "\n",
    "    Examples\n",
    "    --------\n",
    "    >>> np.sum(sum_abundance(np.array([[0, 1, 1]]), axis=1, cutoff=2)) == 1\n",
    "    True\n",
    "    >>> np.sum(sum_abundance(np.array([[0, 1, 1]]), axis=1, cutoff=2, strict=True)) == 0\n",
    "    True\n",
    "    >>> np.sum(sum_abundance(np.array([[0, 1, 1]]), axis=1, cutoff=2.01)) == 0\n",
    "    True\n",
    "\n",
    "    '''\n",
    "    if strict:\n",
    "        res = data.sum(axis=axis) > cutoff\n",
    "    else:\n",
    "        res = data.sum(axis=axis) >= cutoff\n",
    "    if issparse(data):\n",
    "        res = res.A1\n",
    "    return res"
   ]
  },
  {
   "cell_type": "code",
   "execution_count": 3,
   "metadata": {},
   "outputs": [],
   "source": [
    "def sum_abundance_2(data, axis, cutoff):\n",
    "    predicate = lambda i: i.sum() >= cutoff\n",
    "    return np.apply_along_axis(predicate, 1 - axis, data)"
   ]
  },
  {
   "cell_type": "code",
   "execution_count": 4,
   "metadata": {},
   "outputs": [],
   "source": [
    "def prevalence_1(x, cutoff=1/10000, fraction=0.1):\n",
    "    '''Check the prevalence of values above the cutoff.\n",
    "\n",
    "    present (abundance >= cutoff) in at least \"fraction\" of samples\n",
    "\n",
    "    Examples\n",
    "    --------\n",
    "    >>> prevalence(np.array([0, 1]))\n",
    "    True\n",
    "    >>> prevalence(np.array([0, 1, 2, 3]), 2, 0.5)\n",
    "    True\n",
    "    >>> prevalence(np.array([0, 1, 2]), 2, 0.51)\n",
    "    False\n",
    "    '''\n",
    "    frac = np.sum(x >= cutoff, axis=0) / x.shape[0]\n",
    "    return frac >= fraction\n"
   ]
  },
  {
   "cell_type": "code",
   "execution_count": 5,
   "metadata": {},
   "outputs": [],
   "source": [
    "def prevalence_2(x, cutoff=1/10000, fraction=0.1):\n",
    "    '''Check the prevalence of values above the cutoff.\n",
    "\n",
    "    present (abundance >= cutoff) in at least \"fraction\" of samples\n",
    "\n",
    "    Examples\n",
    "    --------\n",
    "    >>> prevalence(np.array([0, 1]))\n",
    "    True\n",
    "    >>> prevalence(np.array([0, 1, 2, 3]), 2, 0.5)\n",
    "    True\n",
    "    >>> prevalence(np.array([0, 1, 2]), 2, 0.51)\n",
    "    False\n",
    "    '''\n",
    "    def predicate(i):\n",
    "        frac = np.sum(i >= cutoff) / len(i)\n",
    "        return frac >= fraction\n",
    "    return np.apply_along_axis(predicate, 0, x)"
   ]
  },
  {
   "cell_type": "code",
   "execution_count": 6,
   "metadata": {},
   "outputs": [],
   "source": [
    "from numpy.random import RandomState\n",
    "from scipy.sparse import issparse, csr_matrix"
   ]
  },
  {
   "cell_type": "code",
   "execution_count": 7,
   "metadata": {},
   "outputs": [],
   "source": [
    "rand = RandomState(9)"
   ]
  },
  {
   "cell_type": "code",
   "execution_count": 8,
   "metadata": {},
   "outputs": [],
   "source": [
    "table = rand.normal(size=(100, 1000))"
   ]
  },
  {
   "cell_type": "code",
   "execution_count": 10,
   "metadata": {},
   "outputs": [
    {
     "name": "stdout",
     "output_type": "stream",
     "text": [
      "35.5 µs ± 381 ns per loop (mean ± std. dev. of 7 runs, 10000 loops each)\n"
     ]
    }
   ],
   "source": [
    "%timeit a = sum_abundance_1(table, axis=1, cutoff=1)"
   ]
  },
  {
   "cell_type": "code",
   "execution_count": 11,
   "metadata": {},
   "outputs": [
    {
     "name": "stdout",
     "output_type": "stream",
     "text": [
      "5.11 ms ± 42.3 µs per loop (mean ± std. dev. of 7 runs, 100 loops each)\n"
     ]
    }
   ],
   "source": [
    "%timeit b = sum_abundance_2(table, axis=1, cutoff=1)"
   ]
  },
  {
   "cell_type": "code",
   "execution_count": 12,
   "metadata": {},
   "outputs": [
    {
     "name": "stdout",
     "output_type": "stream",
     "text": [
      "128 µs ± 543 ns per loop (mean ± std. dev. of 7 runs, 10000 loops each)\n"
     ]
    }
   ],
   "source": [
    "%timeit c = prevalence_1(table, cutoff=1)"
   ]
  },
  {
   "cell_type": "code",
   "execution_count": 13,
   "metadata": {},
   "outputs": [
    {
     "name": "stdout",
     "output_type": "stream",
     "text": [
      "9.13 ms ± 45.4 µs per loop (mean ± std. dev. of 7 runs, 100 loops each)\n"
     ]
    }
   ],
   "source": [
    "%timeit d = prevalence_2(table, cutoff=1)"
   ]
  },
  {
   "cell_type": "code",
   "execution_count": 14,
   "metadata": {},
   "outputs": [],
   "source": [
    "x = csr_matrix([[0, 0, 1], [1, 0, 0]])"
   ]
  },
  {
   "cell_type": "code",
   "execution_count": 19,
   "metadata": {},
   "outputs": [
    {
     "data": {
      "text/plain": [
       "array(2, dtype=int64)"
      ]
     },
     "execution_count": 19,
     "metadata": {},
     "output_type": "execute_result"
    }
   ],
   "source": [
    "np.apply_along_axis(sum, 0, x.todense().A1)"
   ]
  },
  {
   "cell_type": "code",
   "execution_count": 21,
   "metadata": {},
   "outputs": [
    {
     "data": {
      "text/plain": [
       "[slice(None, None, None), slice(None, None, None)]"
      ]
     },
     "execution_count": 21,
     "metadata": {},
     "output_type": "execute_result"
    }
   ],
   "source": [
    "a = [slice(None)] * 2\n",
    "a"
   ]
  },
  {
   "cell_type": "code",
   "execution_count": 22,
   "metadata": {},
   "outputs": [],
   "source": [
    "y=x[0,:]"
   ]
  },
  {
   "cell_type": "code",
   "execution_count": 23,
   "metadata": {},
   "outputs": [
    {
     "data": {
      "text/plain": [
       "<2x1 sparse matrix of type '<class 'numpy.int64'>'\n",
       "\twith 1 stored elements in Compressed Sparse Row format>"
      ]
     },
     "execution_count": 23,
     "metadata": {},
     "output_type": "execute_result"
    }
   ],
   "source": [
    "x[:,np.array([True, False])]"
   ]
  },
  {
   "cell_type": "code",
   "execution_count": null,
   "metadata": {},
   "outputs": [],
   "source": []
  }
 ],
 "metadata": {
  "kernelspec": {
   "display_name": "Python 3",
   "language": "python",
   "name": "python3"
  },
  "language_info": {
   "codemirror_mode": {
    "name": "ipython",
    "version": 3
   },
   "file_extension": ".py",
   "mimetype": "text/x-python",
   "name": "python",
   "nbconvert_exporter": "python",
   "pygments_lexer": "ipython3",
   "version": "3.7.1"
  },
  "toc": {
   "nav_menu": {},
   "number_sections": true,
   "sideBar": true,
   "skip_h1_title": false,
   "toc_cell": false,
   "toc_position": {},
   "toc_section_display": "block",
   "toc_window_display": true
  }
 },
 "nbformat": 4,
 "nbformat_minor": 2
}
